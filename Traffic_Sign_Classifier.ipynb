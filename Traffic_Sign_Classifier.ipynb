{
 "cells": [
  {
   "cell_type": "markdown",
   "metadata": {
    "deletable": true,
    "editable": true
   },
   "source": [
    "# Self-Driving Car Engineer Nanodegree\n",
    "\n",
    "## Deep Learning\n",
    "\n",
    "## Project: Build a Traffic Sign Recognition Classifier\n",
    "\n",
    "In this notebook, a template is provided for you to implement your functionality in stages, which is required to successfully complete this project. If additional code is required that cannot be included in the notebook, be sure that the Python code is successfully imported and included in your submission if necessary. \n",
    "\n",
    "> **Note**: Once you have completed all of the code implementations, you need to finalize your work by exporting the iPython Notebook as an HTML document. Before exporting the notebook to html, all of the code cells need to have been run so that reviewers can see the final implementation and output. You can then export the notebook by using the menu above and navigating to  \\n\",\n",
    "    \"**File -> Download as -> HTML (.html)**. Include the finished document along with this notebook as your submission. \n",
    "\n",
    "In addition to implementing code, there is a writeup to complete. The writeup should be completed in a separate file, which can be either a markdown file or a pdf document. There is a [write up template](https://github.com/udacity/CarND-Traffic-Sign-Classifier-Project/blob/master/writeup_template.md) that can be used to guide the writing process. Completing the code template and writeup template will cover all of the [rubric points](https://review.udacity.com/#!/rubrics/481/view) for this project.\n",
    "\n",
    "The [rubric](https://review.udacity.com/#!/rubrics/481/view) contains \"Stand Out Suggestions\" for enhancing the project beyond the minimum requirements. The stand out suggestions are optional. If you decide to pursue the \"stand out suggestions\", you can include the code in this Ipython notebook and also discuss the results in the writeup file.\n",
    "\n",
    "\n",
    ">**Note:** Code and Markdown cells can be executed using the **Shift + Enter** keyboard shortcut. In addition, Markdown cells can be edited by typically double-clicking the cell to enter edit mode."
   ]
  },
  {
   "cell_type": "markdown",
   "metadata": {
    "deletable": true,
    "editable": true
   },
   "source": [
    "---\n",
    "## Step 0: Load The Data"
   ]
  },
  {
   "cell_type": "code",
   "execution_count": 2,
   "metadata": {
    "collapsed": false,
    "deletable": true,
    "editable": true
   },
   "outputs": [
    {
     "name": "stdout",
     "output_type": "stream",
     "text": [
      "Loaded Pickled data\n"
     ]
    }
   ],
   "source": [
    "# Load pickled data\n",
    "import pickle\n",
    "\n",
    "# TODO: Fill this in based on where you saved the training and testing data\n",
    "\n",
    "training_file = \"./traffic-signs-data/train.p\"\n",
    "validation_file=\"./traffic-signs-data/valid.p\"\n",
    "testing_file = \"./traffic-signs-data/test.p\"\n",
    "\n",
    "with open(training_file, mode='rb') as f:\n",
    "    train = pickle.load(f)\n",
    "with open(validation_file, mode='rb') as f:\n",
    "    valid = pickle.load(f)\n",
    "with open(testing_file, mode='rb') as f:\n",
    "    test = pickle.load(f)\n",
    "    \n",
    "X_train, y_train,X_bb,X_coords = train['features'], train['labels'],train['sizes'],train['coords']\n",
    "X_valid, y_valid = valid['features'], valid['labels']\n",
    "X_test, y_test = test['features'], test['labels']\n",
    "\n",
    "is_processed = False;\n",
    "print (\"Loaded Pickled data\")"
   ]
  },
  {
   "cell_type": "markdown",
   "metadata": {
    "deletable": true,
    "editable": true
   },
   "source": [
    "## Step 0.5 Save Data as MAT files"
   ]
  },
  {
   "cell_type": "code",
   "execution_count": null,
   "metadata": {
    "collapsed": false,
    "deletable": true,
    "editable": true
   },
   "outputs": [],
   "source": [
    "# import scipy.io\n",
    "# scipy.io.savemat('./traffic-signs-data/train.mat', mdict={'train': train})"
   ]
  },
  {
   "cell_type": "markdown",
   "metadata": {
    "deletable": true,
    "editable": true
   },
   "source": [
    "---\n",
    "\n",
    "## Step 1: Dataset Summary & Exploration\n",
    "\n",
    "The pickled data is a dictionary with 4 key/value pairs:\n",
    "\n",
    "- `'features'` is a 4D array containing raw pixel data of the traffic sign images, (num examples, width, height, channels).\n",
    "- `'labels'` is a 1D array containing the label/class id of the traffic sign. The file `signnames.csv` contains id -> name mappings for each id.\n",
    "- `'sizes'` is a list containing tuples, (width, height) representing the original width and height the image.\n",
    "- `'coords'` is a list containing tuples, (x1, y1, x2, y2) representing coordinates of a bounding box around the sign in the image. **THESE COORDINATES ASSUME THE ORIGINAL IMAGE. THE PICKLED DATA CONTAINS RESIZED VERSIONS (32 by 32) OF THESE IMAGES**\n",
    "\n",
    "Complete the basic data summary below. Use python, numpy and/or pandas methods to calculate the data summary rather than hard coding the results. For example, the [pandas shape method](http://pandas.pydata.org/pandas-docs/stable/generated/pandas.DataFrame.shape.html) might be useful for calculating some of the summary results. "
   ]
  },
  {
   "cell_type": "markdown",
   "metadata": {
    "deletable": true,
    "editable": true
   },
   "source": [
    "### Provide a Basic Summary of the Data Set Using Python, Numpy and/or Pandas"
   ]
  },
  {
   "cell_type": "code",
   "execution_count": 3,
   "metadata": {
    "collapsed": false,
    "deletable": true,
    "editable": true
   },
   "outputs": [
    {
     "name": "stdout",
     "output_type": "stream",
     "text": [
      "Number of training examples = 34799\n",
      "Number of validation examples = 4410\n",
      "Number of testing examples = 12630\n",
      "Image data shape = (32, 32)\n",
      "Number of classes = 43\n",
      "Label Distribution =  [ 180 1980 2010 1260 1770 1650  360 1290 1260 1320 1800 1170 1890 1920  690\n",
      "  540  360  990 1080  180  300  270  330  450  240 1350  540  210  480  240\n",
      "  390  690  210  599  360 1080  330  180 1860  270  300  210  210]\n"
     ]
    }
   ],
   "source": [
    "### Replace each question mark with the appropriate value. \n",
    "### Use python, pandas or numpy methods rather than hard coding the results\n",
    "import numpy as np\n",
    "# TODO: Number of training examples\n",
    "n_train = np.shape(X_train)[0]\n",
    "\n",
    "# TODO: Number of testing examples.\n",
    "n_valid = np.shape(X_valid)[0]\n",
    "\n",
    "# TODO: Number of testing examples.\n",
    "n_test = np.shape(X_test)[0]\n",
    "\n",
    "# TODO: What's the shape of an traffic sign image?\n",
    "image_shape = np.shape(X_train)[1:3]\n",
    "\n",
    "# TODO: How many unique classes/labels there are in the dataset.\n",
    "n_classes = np.shape(np.unique(np.concatenate([y_train,y_test,y_valid])))[0]\n",
    "\n",
    "label_distribution = np.bincount(y_train)\n",
    "print(\"Number of training examples =\", n_train)\n",
    "print(\"Number of validation examples =\", n_valid)\n",
    "print(\"Number of testing examples =\", n_test)\n",
    "print(\"Image data shape =\", image_shape)\n",
    "print(\"Number of classes =\", n_classes)\n",
    "print(\"Label Distribution = \",label_distribution)"
   ]
  },
  {
   "cell_type": "markdown",
   "metadata": {
    "deletable": true,
    "editable": true
   },
   "source": [
    "### Include an exploratory visualization of the dataset"
   ]
  },
  {
   "cell_type": "markdown",
   "metadata": {
    "deletable": true,
    "editable": true
   },
   "source": [
    "Visualize the German Traffic Signs Dataset using the pickled file(s). This is open ended, suggestions include: plotting traffic sign images, plotting the count of each sign, etc.\n",
    "\n",
    "The [Matplotlib](http://matplotlib.org/) [examples](http://matplotlib.org/examples/index.html) and [gallery](http://matplotlib.org/gallery.html) pages are a great resource for doing visualizations in Python.\n",
    "\n",
    "**NOTE:** It's recommended you start with something simple first. If you wish to do more, come back to it after you've completed the rest of the sections."
   ]
  },
  {
   "cell_type": "code",
   "execution_count": 4,
   "metadata": {
    "collapsed": false,
    "deletable": true,
    "editable": true
   },
   "outputs": [
    {
     "name": "stdout",
     "output_type": "stream",
     "text": [
      "10\n"
     ]
    },
    {
     "data": {
      "image/png": "[encoded data removed]",
      "text/plain": [
       "<matplotlib.figure.Figure at 0x7ffbd0108710>"
      ]
     },
     "metadata": {},
     "output_type": "display_data"
    }
   ],
   "source": [
    "### Data exploration visualization code goes here.\n",
    "### Feel free to use as many code cells as needed.\n",
    "#To Do - write the matlab code here\n",
    "import random\n",
    "import matplotlib.pyplot as plt\n",
    "# Visualizations will be shown in the notebook.\n",
    "%matplotlib inline\n",
    "\n",
    "index = random.randint(0, len(X_train))\n",
    "image = X_train[index].squeeze()\n",
    "plt.figure(figsize=(1,1))\n",
    "plt.imshow(image)\n",
    "print(y_train[index])"
   ]
  },
  {
   "cell_type": "markdown",
   "metadata": {
    "deletable": true,
    "editable": true
   },
   "source": [
    "----\n",
    "\n",
    "## Step 2: Design and Test a Model Architecture\n",
    "\n",
    "Design and implement a deep learning model that learns to recognize traffic signs. Train and test your model on the [German Traffic Sign Dataset](http://benchmark.ini.rub.de/?section=gtsrb&subsection=dataset).\n",
    "\n",
    "The LeNet-5 implementation shown in the [classroom](https://classroom.udacity.com/nanodegrees/nd013/parts/fbf77062-5703-404e-b60c-95b78b2f3f9e/modules/6df7ae49-c61c-4bb2-a23e-6527e69209ec/lessons/601ae704-1035-4287-8b11-e2c2716217ad/concepts/d4aca031-508f-4e0b-b493-e7b706120f81) at the end of the CNN lesson is a solid starting point. You'll have to change the number of classes and possibly the preprocessing, but aside from that it's plug and play! \n",
    "\n",
    "With the LeNet-5 solution from the lecture, you should expect a validation set accuracy of about 0.89. To meet specifications, the validation set accuracy will need to be at least 0.93. It is possible to get an even higher accuracy, but 0.93 is the minimum for a successful project submission. \n",
    "\n",
    "There are various aspects to consider when thinking about this problem:\n",
    "\n",
    "- Neural network architecture (is the network over or underfitting?)\n",
    "- Play around preprocessing techniques (normalization, rgb to grayscale, etc)\n",
    "- Number of examples per label (some have more than others).\n",
    "- Generate fake data.\n",
    "\n",
    "Here is an example of a [published baseline model on this problem](http://yann.lecun.com/exdb/publis/pdf/sermanet-ijcnn-11.pdf). It's not required to be familiar with the approach used in the paper but, it's good practice to try to read papers like these."
   ]
  },
  {
   "cell_type": "markdown",
   "metadata": {
    "deletable": true,
    "editable": true
   },
   "source": [
    "### Pre-process the Data Set (normalization, grayscale, etc.)"
   ]
  },
  {
   "cell_type": "markdown",
   "metadata": {
    "deletable": true,
    "editable": true
   },
   "source": [
    "Use the code cell (or multiple code cells, if necessary) to implement the first step of your project."
   ]
  },
  {
   "cell_type": "code",
   "execution_count": 5,
   "metadata": {
    "collapsed": true,
    "deletable": true,
    "editable": true
   },
   "outputs": [],
   "source": [
    "def normalize_grayscale(image_data):\n",
    "    \"\"\"\n",
    "    Normalize the image data with Min-Max scaling to a range of [0.1, 0.9]\n",
    "    :param image_data: The image data to be normalized\n",
    "    :return: Normalized image data\n",
    "    \"\"\"\n",
    "    a = 0.0\n",
    "    b = 1.0\n",
    "    grayscale_min = 0\n",
    "    grayscale_max = 255\n",
    "    return a + ( ( (image_data - grayscale_min)*(b - a) )/( grayscale_max - grayscale_min ) )"
   ]
  },
  {
   "cell_type": "code",
   "execution_count": 6,
   "metadata": {
    "collapsed": false,
    "deletable": true,
    "editable": true
   },
   "outputs": [],
   "source": [
    "import cv2\n",
    "def pre_process(im):\n",
    "    im_YUV = cv2.cvtColor(np.uint8(im),cv2.COLOR_RGB2YCR_CB)\n",
    "    Y = im_YUV[:,:,0]\n",
    "    U = im_YUV[:,:,1]\n",
    "    V = im_YUV[:,:,2]\n",
    "    Y_eq = cv2.equalizeHist(Y)\n",
    "    im_YUV_equalized = cv2.merge((Y_eq,U,V))\n",
    "    im_RGB = cv2.cvtColor(im_YUV_equalized,cv2.COLOR_YCR_CB2RGB)\n",
    "    return np.float32(im_RGB)\n",
    "\n",
    "def process_images(images):\n",
    "    for i in range(np.shape(images)[0]):\n",
    "        images[i,:,:,:] = pre_process(images[i,:,:,:])\n",
    "    return images    \n",
    "# \n",
    "# im.dtype\n",
    "# print(np.max(im_YUV_equalized[:,:,0]))\n",
    "# plt.imshow((im_RGB))"
   ]
  },
  {
   "cell_type": "code",
   "execution_count": 8,
   "metadata": {
    "collapsed": false,
    "deletable": true,
    "editable": true
   },
   "outputs": [],
   "source": [
    "### Preprocess the data here. Preprocessing steps could include normalization, converting to grayscale, etc.\n",
    "### Feel free to use as many code cells as needed.\n",
    "if not is_processed:    \n",
    "#     X_train = process_images(X_train)\n",
    "#     X_valid = process_images(X_valid)\n",
    "#     X_test = process_images(X_test)\n",
    "    X_train = normalize_grayscale(X_train)\n",
    "    X_valid = normalize_grayscale(X_valid)\n",
    "    X_test = normalize_grayscale(X_test)    \n",
    "    is_processed = True;\n",
    "    print(\"Data has been pre-processed\")\n",
    "from sklearn.utils import shuffle\n",
    "X_train, y_train = shuffle(X_train, y_train)"
   ]
  },
  {
   "cell_type": "code",
   "execution_count": 9,
   "metadata": {
    "collapsed": false,
    "deletable": true,
    "editable": true
   },
   "outputs": [
    {
     "name": "stdout",
     "output_type": "stream",
     "text": [
      "0.203921568627\n",
      "0.537254901961\n",
      "0.149019607843\n",
      "0.509803921569\n",
      "0.156862745098\n",
      "0.56862745098\n"
     ]
    },
    {
     "data": {
      "text/plain": [
       "<matplotlib.image.AxesImage at 0x7ffbd00f9898>"
      ]
     },
     "execution_count": 9,
     "metadata": {},
     "output_type": "execute_result"
    },
    {
     "data": {
      "image/png": "[encoded data removed]",
      "text/plain": [
       "<matplotlib.figure.Figure at 0x7ffba4edda20>"
      ]
     },
     "metadata": {},
     "output_type": "display_data"
    }
   ],
   "source": [
    "processed = (X_train[index,:,:,:])\n",
    "print(np.min(processed[:,:,0]))\n",
    "print(np.max(processed[:,:,0]))\n",
    "print(np.min(processed[:,:,1]))\n",
    "print(np.max(processed[:,:,1]))\n",
    "print(np.min(processed[:,:,2]))\n",
    "print(np.max(processed[:,:,2]))\n",
    "plt.imshow(processed)"
   ]
  },
  {
   "cell_type": "code",
   "execution_count": null,
   "metadata": {
    "collapsed": false,
    "deletable": true,
    "editable": true
   },
   "outputs": [],
   "source": []
  },
  {
   "cell_type": "markdown",
   "metadata": {
    "deletable": true,
    "editable": true
   },
   "source": [
    "### Model Architecture"
   ]
  },
  {
   "cell_type": "code",
   "execution_count": 10,
   "metadata": {
    "collapsed": true,
    "deletable": true,
    "editable": true
   },
   "outputs": [],
   "source": [
    "import tensorflow as tf\n",
    "\n",
    "EPOCHS = 100\n",
    "BATCH_SIZE = 128"
   ]
  },
  {
   "cell_type": "code",
   "execution_count": 11,
   "metadata": {
    "collapsed": false,
    "deletable": true,
    "editable": true
   },
   "outputs": [],
   "source": [
    "### Define your architecture here.\n",
    "### Feel free to use as many code cells as needed.\n",
    "from tensorflow.contrib.layers import flatten\n",
    "from tensorflow.contrib.image import rotate\n",
    "def image_manipulate(images):\n",
    "    images = image_random_brignness(images);\n",
    "    return image_random_rotate(images);\n",
    "def image_random_brignness(images):\n",
    "    return tf.map_fn(lambda img: tf.image.random_brightness(img,0.2), images)\n",
    "def image_random_rotate(images):\n",
    "    return tf.map_fn(lambda img: tf.contrib.image.rotate(img, tf.random_normal([1], mean=0.0, stddev=0.2)), images)\n",
    "def image_pass(x):\n",
    "    return x\n",
    "def LeNet(x,keep_prob,training_mode):    \n",
    "    \n",
    "    x = tf.cond(training_mode,lambda:image_manipulate(x),lambda:image_pass(x))\n",
    "    \n",
    "    # Arguments used for tf.truncated_normal, randomly defines variables for the weigh(ts and biases for each layer\n",
    "    mu = 0\n",
    "    sigma = 0.1\n",
    "    \n",
    "    # SOLUTION: Layer 1: Convolutional. Input = 32x32x3. Output = 28x28x6.\n",
    "    conv1_W = tf.get_variable(\"conv1_W\",shape=(5, 5, 3, 6), initializer=tf.contrib.layers.xavier_initializer())\n",
    "    conv1_b = tf.Variable(tf.zeros(6))\n",
    "    conv1   = tf.nn.conv2d(x, conv1_W, strides=[1, 1, 1, 1], padding='VALID') + conv1_b\n",
    "\n",
    "    # SOLUTION: Activation.\n",
    "    conv1 = tf.nn.relu(conv1)\n",
    "    \n",
    "    # SOLUTION: Pooling. Input = 28x28x6. Output = 14x14x6.\n",
    "    conv1 = tf.nn.max_pool(conv1, ksize=[1, 2, 2, 1], strides=[1, 2, 2, 1], padding='VALID')\n",
    "    \n",
    "    # SOLUTION: Layer 2: Convolutional. Output = 10x10x16.\n",
    "    conv2_W = tf.get_variable(\"conv2_W\",shape=(5, 5, 6, 16), initializer=tf.contrib.layers.xavier_initializer())\n",
    "    conv2_b = tf.Variable(tf.zeros(16))\n",
    "    conv2   = tf.nn.conv2d(conv1, conv2_W, strides=[1, 1, 1, 1], padding='VALID') + conv2_b\n",
    "    \n",
    "    # SOLUTION: Activation.\n",
    "    conv2 = tf.nn.relu(conv2)\n",
    "    \n",
    "\n",
    "    # SOLUTION: Pooling. Input = 10x10x16. Output = 5x5x16.\n",
    "    conv2 = tf.nn.max_pool(conv2, ksize=[1, 2, 2, 1], strides=[1, 2, 2, 1], padding='VALID')\n",
    "    # SOLUTION: Flatten. Input = 5x5x16. Output = 400.\n",
    "    fc0   = flatten(conv2)\n",
    "    \n",
    "    # SOLUTION: Layer 3: Fully Connected. Input = 400. Output = 120.\n",
    "    fc1_W = tf.get_variable(\"fc1_W\",shape=(400, 120),initializer=tf.contrib.layers.xavier_initializer())\n",
    "    fc1_b = tf.Variable(tf.zeros(120))\n",
    "    fc1   = tf.matmul(fc0, fc1_W) + fc1_b\n",
    "    \n",
    "    # SOLUTION: Activation.\n",
    "    fc1    = tf.nn.relu(fc1)\n",
    "    # Dropout\n",
    "    fc1 = tf.nn.dropout(fc1, keep_prob)\n",
    "    # SOLUTION: Layer 4: Fully Connected. Input = 120. Output = 84.\n",
    "    fc2_W  = tf.get_variable(\"fc2_W\",shape=(120, 84),initializer=tf.contrib.layers.xavier_initializer())\n",
    "    fc2_b  = tf.Variable(tf.zeros(84))\n",
    "    fc2    = tf.matmul(fc1, fc2_W) + fc2_b\n",
    "    \n",
    "    # SOLUTION: Activation.\n",
    "    fc2    = tf.nn.relu(fc2)\n",
    "    # Dropout\n",
    "    fc2 = tf.nn.dropout(fc2, keep_prob)\n",
    "    # SOLUTION: Layer 5: Fully Connected. Input = 84. Output = 36.\n",
    "    fc3_W  = tf.get_variable(\"fc3_W\",shape=(84,n_classes ),initializer=tf.contrib.layers.xavier_initializer())\n",
    "    fc3_b  = tf.Variable(tf.zeros(n_classes))\n",
    "    logits = tf.matmul(fc2, fc3_W) + fc3_b\n",
    "    \n",
    "    return logits"
   ]
  },
  {
   "cell_type": "markdown",
   "metadata": {
    "deletable": true,
    "editable": true
   },
   "source": [
    "### Train, Validate and Test the Model"
   ]
  },
  {
   "cell_type": "markdown",
   "metadata": {
    "deletable": true,
    "editable": true
   },
   "source": [
    "A validation set can be used to assess how well the model is performing. A low accuracy on the training and validation\n",
    "sets imply underfitting. A high accuracy on the training set but low accuracy on the validation set implies overfitting."
   ]
  },
  {
   "cell_type": "code",
   "execution_count": 10,
   "metadata": {
    "collapsed": true,
    "deletable": true,
    "editable": true
   },
   "outputs": [],
   "source": [
    "### Train your model here.\n",
    "### Calculate and report the accuracy on the training and validation set.\n",
    "### Once a final model architecture is selected, \n",
    "### the accuracy on the test set should be calculated and reported as well.\n",
    "### Feel free to use as many code cells as needed.\n"
   ]
  },
  {
   "cell_type": "markdown",
   "metadata": {
    "deletable": true,
    "editable": true
   },
   "source": [
    "### Train"
   ]
  },
  {
   "cell_type": "code",
   "execution_count": 12,
   "metadata": {
    "collapsed": true,
    "deletable": true,
    "editable": true
   },
   "outputs": [],
   "source": [
    "x = tf.placeholder(tf.float32, (None, 32, 32, 3))\n",
    "y = tf.placeholder(tf.int32, (None))\n",
    "keep_prob = tf.placeholder(tf.float32)\n",
    "training_mode = tf.placeholder(tf.bool)\n",
    "one_hot_y = tf.one_hot(y, n_classes)\n"
   ]
  },
  {
   "cell_type": "code",
   "execution_count": 13,
   "metadata": {
    "collapsed": false,
    "deletable": true,
    "editable": true
   },
   "outputs": [],
   "source": [
    "rate = 0.002\n",
    "logits = LeNet(x,keep_prob,training_mode)\n",
    "cross_entropy = tf.nn.softmax_cross_entropy_with_logits(logits=logits,labels= one_hot_y)\n",
    "loss_operation = tf.reduce_mean(cross_entropy)\n",
    "optimizer = tf.train.AdamOptimizer(learning_rate = rate)\n",
    "training_operation = optimizer.minimize(loss_operation)"
   ]
  },
  {
   "cell_type": "code",
   "execution_count": 14,
   "metadata": {
    "collapsed": false,
    "deletable": true,
    "editable": true
   },
   "outputs": [],
   "source": [
    "correct_prediction = tf.equal(tf.argmax(logits, 1), tf.argmax(one_hot_y, 1))\n",
    "accuracy_operation = tf.reduce_mean(tf.cast(correct_prediction, tf.float32))\n",
    "saver = tf.train.Saver()\n",
    "\n",
    "def evaluate(X_data, y_data):\n",
    "    num_examples = len(X_data)\n",
    "    total_accuracy = 0\n",
    "    sess = tf.get_default_session()\n",
    "    for offset in range(0, num_examples, BATCH_SIZE):\n",
    "        batch_x, batch_y = X_data[offset:offset+BATCH_SIZE], y_data[offset:offset+BATCH_SIZE]\n",
    "        accuracy = sess.run(accuracy_operation, feed_dict={x: batch_x, y: batch_y,keep_prob:1.0,training_mode:False})\n",
    "        total_accuracy += (accuracy * len(batch_x))\n",
    "    return total_accuracy / num_examples"
   ]
  },
  {
   "cell_type": "code",
   "execution_count": 22,
   "metadata": {
    "collapsed": false,
    "deletable": true,
    "editable": true
   },
   "outputs": [
    {
     "name": "stdout",
     "output_type": "stream",
     "text": [
      "Training...\n",
      "EPOCH 1 ...\n",
      "Validation Accuracy = 0.603\n",
      "Training Accuracy = 0.677\n",
      "EPOCH 2 ...\n",
      "Validation Accuracy = 0.773\n",
      "Training Accuracy = 0.831\n",
      "EPOCH 3 ...\n",
      "Validation Accuracy = 0.822\n",
      "Training Accuracy = 0.885\n",
      "EPOCH 4 ...\n",
      "Validation Accuracy = 0.864\n",
      "Training Accuracy = 0.916\n",
      "EPOCH 5 ...\n",
      "Validation Accuracy = 0.878\n",
      "Training Accuracy = 0.933\n",
      "EPOCH 6 ...\n",
      "Validation Accuracy = 0.895\n",
      "Training Accuracy = 0.949\n",
      "EPOCH 7 ...\n",
      "Validation Accuracy = 0.906\n",
      "Training Accuracy = 0.953\n",
      "EPOCH 8 ...\n",
      "Validation Accuracy = 0.909\n",
      "Training Accuracy = 0.955\n",
      "EPOCH 9 ...\n",
      "Validation Accuracy = 0.913\n",
      "Training Accuracy = 0.960\n",
      "EPOCH 10 ...\n",
      "Validation Accuracy = 0.923\n",
      "Training Accuracy = 0.967\n",
      "EPOCH 11 ...\n",
      "Validation Accuracy = 0.916\n",
      "Training Accuracy = 0.968\n",
      "EPOCH 12 ...\n",
      "Validation Accuracy = 0.924\n",
      "Training Accuracy = 0.973\n",
      "EPOCH 13 ...\n",
      "Validation Accuracy = 0.932\n",
      "Training Accuracy = 0.975\n",
      "EPOCH 14 ...\n",
      "Validation Accuracy = 0.933\n",
      "Training Accuracy = 0.974\n",
      "EPOCH 15 ...\n",
      "Validation Accuracy = 0.934\n",
      "Training Accuracy = 0.981\n",
      "EPOCH 16 ...\n",
      "Validation Accuracy = 0.938\n",
      "Training Accuracy = 0.977\n",
      "EPOCH 17 ...\n",
      "Validation Accuracy = 0.935\n",
      "Training Accuracy = 0.979\n",
      "EPOCH 18 ...\n",
      "Validation Accuracy = 0.940\n",
      "Training Accuracy = 0.979\n",
      "EPOCH 19 ...\n",
      "Validation Accuracy = 0.938\n",
      "Training Accuracy = 0.985\n",
      "EPOCH 20 ...\n",
      "Validation Accuracy = 0.938\n",
      "Training Accuracy = 0.979\n",
      "EPOCH 21 ...\n",
      "Validation Accuracy = 0.934\n",
      "Training Accuracy = 0.985\n",
      "EPOCH 22 ...\n",
      "Validation Accuracy = 0.941\n",
      "Training Accuracy = 0.987\n",
      "EPOCH 23 ...\n",
      "Validation Accuracy = 0.944\n",
      "Training Accuracy = 0.986\n",
      "EPOCH 24 ...\n",
      "Validation Accuracy = 0.946\n",
      "Training Accuracy = 0.986\n",
      "EPOCH 25 ...\n",
      "Validation Accuracy = 0.945\n",
      "Training Accuracy = 0.987\n",
      "EPOCH 26 ...\n",
      "Validation Accuracy = 0.938\n",
      "Training Accuracy = 0.987\n",
      "EPOCH 27 ...\n",
      "Validation Accuracy = 0.943\n",
      "Training Accuracy = 0.990\n",
      "EPOCH 28 ...\n",
      "Validation Accuracy = 0.944\n",
      "Training Accuracy = 0.984\n",
      "EPOCH 29 ...\n",
      "Validation Accuracy = 0.948\n",
      "Training Accuracy = 0.987\n",
      "EPOCH 30 ...\n",
      "Validation Accuracy = 0.952\n",
      "Training Accuracy = 0.991\n",
      "EPOCH 31 ...\n",
      "Validation Accuracy = 0.937\n",
      "Training Accuracy = 0.987\n",
      "EPOCH 32 ...\n",
      "Validation Accuracy = 0.952\n",
      "Training Accuracy = 0.990\n",
      "EPOCH 33 ...\n",
      "Validation Accuracy = 0.951\n",
      "Training Accuracy = 0.989\n",
      "EPOCH 34 ...\n",
      "Validation Accuracy = 0.951\n",
      "Training Accuracy = 0.991\n",
      "EPOCH 35 ...\n",
      "Validation Accuracy = 0.951\n",
      "Training Accuracy = 0.993\n",
      "EPOCH 36 ...\n",
      "Validation Accuracy = 0.949\n",
      "Training Accuracy = 0.991\n",
      "EPOCH 37 ...\n",
      "Validation Accuracy = 0.950\n",
      "Training Accuracy = 0.992\n",
      "EPOCH 38 ...\n",
      "Validation Accuracy = 0.948\n",
      "Training Accuracy = 0.992\n",
      "EPOCH 39 ...\n",
      "Validation Accuracy = 0.954\n",
      "Training Accuracy = 0.992\n",
      "EPOCH 40 ...\n",
      "Validation Accuracy = 0.954\n",
      "Training Accuracy = 0.991\n",
      "EPOCH 41 ...\n",
      "Validation Accuracy = 0.951\n",
      "Training Accuracy = 0.991\n",
      "EPOCH 42 ...\n",
      "Validation Accuracy = 0.954\n",
      "Training Accuracy = 0.993\n",
      "EPOCH 43 ...\n",
      "Validation Accuracy = 0.951\n",
      "Training Accuracy = 0.992\n",
      "EPOCH 44 ...\n",
      "Validation Accuracy = 0.952\n",
      "Training Accuracy = 0.990\n",
      "EPOCH 45 ...\n",
      "Validation Accuracy = 0.955\n",
      "Training Accuracy = 0.992\n",
      "EPOCH 46 ...\n",
      "Validation Accuracy = 0.955\n",
      "Training Accuracy = 0.993\n",
      "EPOCH 47 ...\n",
      "Validation Accuracy = 0.945\n",
      "Training Accuracy = 0.992\n",
      "EPOCH 48 ...\n",
      "Validation Accuracy = 0.949\n",
      "Training Accuracy = 0.991\n",
      "EPOCH 49 ...\n",
      "Validation Accuracy = 0.949\n",
      "Training Accuracy = 0.990\n",
      "EPOCH 50 ...\n",
      "Validation Accuracy = 0.959\n",
      "Training Accuracy = 0.994\n",
      "EPOCH 51 ...\n",
      "Validation Accuracy = 0.957\n",
      "Training Accuracy = 0.993\n",
      "EPOCH 52 ...\n",
      "Validation Accuracy = 0.950\n",
      "Training Accuracy = 0.993\n",
      "EPOCH 53 ...\n",
      "Validation Accuracy = 0.956\n",
      "Training Accuracy = 0.993\n",
      "EPOCH 54 ...\n",
      "Validation Accuracy = 0.955\n",
      "Training Accuracy = 0.994\n",
      "EPOCH 55 ...\n",
      "Validation Accuracy = 0.956\n",
      "Training Accuracy = 0.994\n",
      "EPOCH 56 ...\n",
      "Validation Accuracy = 0.958\n",
      "Training Accuracy = 0.992\n",
      "EPOCH 57 ...\n",
      "Validation Accuracy = 0.956\n",
      "Training Accuracy = 0.993\n",
      "EPOCH 58 ...\n",
      "Validation Accuracy = 0.956\n",
      "Training Accuracy = 0.995\n",
      "EPOCH 59 ...\n",
      "Validation Accuracy = 0.956\n",
      "Training Accuracy = 0.995\n",
      "EPOCH 60 ...\n",
      "Validation Accuracy = 0.958\n",
      "Training Accuracy = 0.994\n",
      "EPOCH 61 ...\n",
      "Validation Accuracy = 0.947\n",
      "Training Accuracy = 0.991\n",
      "EPOCH 62 ...\n",
      "Validation Accuracy = 0.958\n",
      "Training Accuracy = 0.994\n",
      "EPOCH 63 ...\n",
      "Validation Accuracy = 0.957\n",
      "Training Accuracy = 0.995\n",
      "EPOCH 64 ...\n",
      "Validation Accuracy = 0.952\n",
      "Training Accuracy = 0.994\n",
      "EPOCH 65 ...\n",
      "Validation Accuracy = 0.957\n",
      "Training Accuracy = 0.994\n",
      "EPOCH 66 ...\n",
      "Validation Accuracy = 0.953\n",
      "Training Accuracy = 0.995\n",
      "EPOCH 67 ...\n",
      "Validation Accuracy = 0.952\n",
      "Training Accuracy = 0.995\n",
      "EPOCH 68 ...\n",
      "Validation Accuracy = 0.946\n",
      "Training Accuracy = 0.994\n",
      "EPOCH 69 ...\n",
      "Validation Accuracy = 0.953\n",
      "Training Accuracy = 0.992\n",
      "EPOCH 70 ...\n",
      "Validation Accuracy = 0.962\n",
      "Training Accuracy = 0.995\n",
      "EPOCH 71 ...\n",
      "Validation Accuracy = 0.949\n",
      "Training Accuracy = 0.994\n",
      "EPOCH 72 ...\n",
      "Validation Accuracy = 0.954\n",
      "Training Accuracy = 0.995\n",
      "EPOCH 73 ...\n",
      "Validation Accuracy = 0.954\n",
      "Training Accuracy = 0.993\n",
      "EPOCH 74 ...\n",
      "Validation Accuracy = 0.954\n",
      "Training Accuracy = 0.995\n",
      "EPOCH 75 ...\n",
      "Validation Accuracy = 0.954\n",
      "Training Accuracy = 0.993\n",
      "EPOCH 76 ...\n",
      "Validation Accuracy = 0.950\n",
      "Training Accuracy = 0.994\n",
      "EPOCH 77 ...\n",
      "Validation Accuracy = 0.959\n",
      "Training Accuracy = 0.995\n",
      "EPOCH 78 ...\n",
      "Validation Accuracy = 0.952\n",
      "Training Accuracy = 0.992\n",
      "EPOCH 79 ...\n",
      "Validation Accuracy = 0.956\n",
      "Training Accuracy = 0.994\n",
      "EPOCH 80 ...\n",
      "Validation Accuracy = 0.957\n",
      "Training Accuracy = 0.995\n",
      "EPOCH 81 ...\n",
      "Validation Accuracy = 0.954\n",
      "Training Accuracy = 0.996\n",
      "EPOCH 82 ...\n",
      "Validation Accuracy = 0.954\n",
      "Training Accuracy = 0.995\n",
      "EPOCH 83 ...\n",
      "Validation Accuracy = 0.950\n",
      "Training Accuracy = 0.994\n",
      "EPOCH 84 ...\n",
      "Validation Accuracy = 0.960\n",
      "Training Accuracy = 0.995\n",
      "EPOCH 85 ...\n",
      "Validation Accuracy = 0.955\n",
      "Training Accuracy = 0.995\n",
      "EPOCH 86 ...\n",
      "Validation Accuracy = 0.959\n",
      "Training Accuracy = 0.995\n",
      "EPOCH 87 ...\n",
      "Validation Accuracy = 0.955\n",
      "Training Accuracy = 0.995\n",
      "EPOCH 88 ...\n",
      "Validation Accuracy = 0.954\n",
      "Training Accuracy = 0.994\n",
      "EPOCH 89 ...\n",
      "Validation Accuracy = 0.962\n",
      "Training Accuracy = 0.995\n",
      "EPOCH 90 ...\n",
      "Validation Accuracy = 0.960\n",
      "Training Accuracy = 0.995\n",
      "EPOCH 91 ...\n",
      "Validation Accuracy = 0.957\n",
      "Training Accuracy = 0.995\n",
      "EPOCH 92 ...\n",
      "Validation Accuracy = 0.959\n",
      "Training Accuracy = 0.995\n",
      "EPOCH 93 ...\n",
      "Validation Accuracy = 0.957\n",
      "Training Accuracy = 0.994\n",
      "EPOCH 94 ...\n",
      "Validation Accuracy = 0.952\n",
      "Training Accuracy = 0.995\n",
      "EPOCH 95 ...\n",
      "Validation Accuracy = 0.959\n",
      "Training Accuracy = 0.995\n",
      "EPOCH 96 ...\n",
      "Validation Accuracy = 0.957\n",
      "Training Accuracy = 0.994\n",
      "EPOCH 97 ...\n",
      "Validation Accuracy = 0.953\n",
      "Training Accuracy = 0.995\n",
      "EPOCH 98 ...\n",
      "Validation Accuracy = 0.960\n",
      "Training Accuracy = 0.995\n",
      "EPOCH 99 ...\n",
      "Validation Accuracy = 0.951\n",
      "Training Accuracy = 0.994\n",
      "EPOCH 100 ...\n",
      "Validation Accuracy = 0.956\n",
      "Training Accuracy = 0.994\n"
     ]
    },
    {
     "data": {
      "image/png": "[encoded data removed]",
      "text/plain": [
       "<matplotlib.figure.Figure at 0x7f8ebf8939b0>"
      ]
     },
     "metadata": {},
     "output_type": "display_data"
    },
    {
     "name": "stdout",
     "output_type": "stream",
     "text": [
      "Model saved\n"
     ]
    }
   ],
   "source": [
    "\n",
    "# Measurements use for graphing loss and accuracy\n",
    "epochs = []\n",
    "loss_batch = []\n",
    "train_acc_epoch = []\n",
    "valid_acc_epoch = []\n",
    "\n",
    "\n",
    "with tf.Session() as sess:\n",
    "    sess.run(tf.global_variables_initializer())\n",
    "    num_examples = len(X_train)\n",
    "    \n",
    "    print(\"Training...\")\n",
    "    for i in range(EPOCHS):\n",
    "        X_train, y_train = shuffle(X_train, y_train)\n",
    "        batch_i = 0\n",
    "        for offset in range(0, num_examples, BATCH_SIZE):\n",
    "            end = offset + BATCH_SIZE\n",
    "            batch_x, batch_y = X_train[offset:end], y_train[offset:end]\n",
    "            sess.run(training_operation, feed_dict={x: batch_x, y: batch_y,keep_prob:0.5,training_mode:True})\n",
    "            \n",
    "        validation_accuracy = evaluate(X_valid, y_valid)\n",
    "        training_accuracy = evaluate(X_train, y_train)    \n",
    "        print(\"EPOCH {} ...\".format(i+1))\n",
    "        print(\"Validation Accuracy = {:.3f}\".format(validation_accuracy))\n",
    "        print(\"Training Accuracy = {:.3f}\".format(training_accuracy))\n",
    "        epochs.append(i+1)\n",
    "        train_acc_epoch.append(training_accuracy)\n",
    "        valid_acc_epoch.append(validation_accuracy)\n",
    "    \n",
    "    acc_plot = plt.subplot(111)\n",
    "    acc_plot.set_title('Accuracy')\n",
    "    acc_plot.plot(epochs, train_acc_epoch, 'r', label='Training Accuracy')\n",
    "    acc_plot.plot(epochs, valid_acc_epoch, 'x', label='Validation Accuracy')\n",
    "    acc_plot.set_ylim([0, 1.0])\n",
    "    acc_plot.set_xlim([epochs[0], epochs[-1]])\n",
    "    acc_plot.legend(loc=4)\n",
    "    plt.tight_layout()\n",
    "    plt.show()\n",
    "        \n",
    "    saver.save(sess, './lenet')\n",
    "    print(\"Model saved\")"
   ]
  },
  {
   "cell_type": "markdown",
   "metadata": {
    "deletable": true,
    "editable": true
   },
   "source": []
  },
  {
   "cell_type": "markdown",
   "metadata": {
    "deletable": true,
    "editable": true
   },
   "source": [
    "---\n",
    "\n",
    "## Step 3: Test a Model on New Images\n",
    "\n",
    "To give yourself more insight into how your model is working, download at least five pictures of German traffic signs from the web and use your model to predict the traffic sign type.\n",
    "\n",
    "You may find `signnames.csv` useful as it contains mappings from the class id (integer) to the actual sign name."
   ]
  },
  {
   "cell_type": "markdown",
   "metadata": {
    "deletable": true,
    "editable": true
   },
   "source": [
    "### Accuracy on test data"
   ]
  },
  {
   "cell_type": "code",
   "execution_count": 14,
   "metadata": {
    "collapsed": false,
    "deletable": true,
    "editable": true
   },
   "outputs": [
    {
     "name": "stdout",
     "output_type": "stream",
     "text": [
      "Training acc:0.994223971953\n",
      "Validation acc:0.955555555556\n",
      "Test acc:0.946318289673\n"
     ]
    }
   ],
   "source": [
    "with tf.Session() as sess:\n",
    "    # Load the weights and bias\n",
    "    saver.restore(sess, './lenet')\n",
    "    validation_accuracy = evaluate(X_valid, y_valid)\n",
    "    training_accuracy = evaluate(X_train, y_train)\n",
    "    test_accuracy = evaluate(X_test,y_test)\n",
    "    print(\"Training acc:\" + str(training_accuracy))\n",
    "    print(\"Validation acc:\" + str(validation_accuracy))\n",
    "    print(\"Test acc:\" + str(test_accuracy))"
   ]
  },
  {
   "cell_type": "markdown",
   "metadata": {},
   "source": [
    "## Confusion Matrix"
   ]
  },
  {
   "cell_type": "code",
   "execution_count": 44,
   "metadata": {
    "collapsed": false
   },
   "outputs": [
    {
     "name": "stderr",
     "output_type": "stream",
     "text": [
      "/home/arkhalid1/miniconda3/envs/carnd-term1/lib/python3.5/site-packages/ipykernel/__main__.py:10: RuntimeWarning: divide by zero encountered in log\n"
     ]
    },
    {
     "data": {
      "image/png": "[encoded data removed]",
      "text/plain": [
       "<matplotlib.figure.Figure at 0x7ffaf2dacc50>"
      ]
     },
     "metadata": {},
     "output_type": "display_data"
    }
   ],
   "source": [
    "np.set_printoptions(threshold=np.nan)\n",
    "with tf.Session() as sess:\n",
    "    # Load the weights and bias\n",
    "    saver.restore(sess, './lenet')\n",
    "    predicted = sess.run(tf.argmax(logits, 1),feed_dict={x: X_test, y: y_test,keep_prob:1.0,training_mode:False})\n",
    "    conf = tf.confusion_matrix(\n",
    "    y_test,\n",
    "    predicted);\n",
    "    conf_matrix = (sess.run(conf,feed_dict={x: X_test, y: y_test,keep_prob:1.0,training_mode:False}))\n",
    "    plt.imshow(np.log(conf_matrix))\n",
    "    plt.colorbar()\n",
    "    \n",
    "    "
   ]
  },
  {
   "cell_type": "markdown",
   "metadata": {
    "deletable": true,
    "editable": true
   },
   "source": [
    "### Load and Output the Images"
   ]
  },
  {
   "cell_type": "code",
   "execution_count": 31,
   "metadata": {
    "collapsed": false,
    "deletable": true,
    "editable": true
   },
   "outputs": [
    {
     "data": {
      "image/png": "[encoded data removed]",
      "text/plain": [
       "<matplotlib.figure.Figure at 0x7ffba4e49470>"
      ]
     },
     "metadata": {},
     "output_type": "display_data"
    },
    {
     "data": {
      "image/png": "[encoded data removed]",
      "text/plain": [
       "<matplotlib.figure.Figure at 0x7ffaf3b39e10>"
      ]
     },
     "metadata": {},
     "output_type": "display_data"
    },
    {
     "data": {
      "image/png": "[encoded data removed]",
      "text/plain": [
       "<matplotlib.figure.Figure at 0x7ffaf399b550>"
      ]
     },
     "metadata": {},
     "output_type": "display_data"
    },
    {
     "data": {
      "image/png": "[encoded data removed]",
      "text/plain": [
       "<matplotlib.figure.Figure at 0x7ffaf3a19a20>"
      ]
     },
     "metadata": {},
     "output_type": "display_data"
    },
    {
     "data": {
      "image/png": "[encoded data removed]",
      "text/plain": [
       "<matplotlib.figure.Figure at 0x7ffaf3b6c0b8>"
      ]
     },
     "metadata": {},
     "output_type": "display_data"
    }
   ],
   "source": [
    "### Load the images and plot them here.\n",
    "### Feel free to use as many code cells as needed.\n",
    "import matplotlib.pyplot as plt\n",
    "import numpy as np\n",
    "import cv2\n",
    "import tensorflow as tf\n",
    "from PIL import Image\n",
    "%matplotlib inline\n",
    "imArray = np.zeros((5,32,32,3))\n",
    "for i in range(5):\n",
    "    im = cv2.imread('./test/'+str(i)+'.jpg')\n",
    "    resized_image = (cv2.resize(im, (32, 32)))\n",
    "    b,g,r = cv2.split(resized_image);\n",
    "    resized_rgb = cv2.merge([r,g,b])\n",
    "    resized_expanded = np.expand_dims(resized_rgb,0)\n",
    "    imArray[i,:,:,:] = resized_expanded\n",
    "    plt.figure(figsize=(1+i,1))\n",
    "    plt.imshow(255 - imArray[i,:,:,:])\n",
    "test_labels = np.array([2,14,13,27,25])"
   ]
  },
  {
   "cell_type": "markdown",
   "metadata": {
    "deletable": true,
    "editable": true
   },
   "source": [
    "### Predict the Sign Type for Each Image"
   ]
  },
  {
   "cell_type": "code",
   "execution_count": 32,
   "metadata": {
    "collapsed": false,
    "deletable": true,
    "editable": true
   },
   "outputs": [
    {
     "name": "stdout",
     "output_type": "stream",
     "text": [
      "[ 1 14 13 18 25]\n"
     ]
    }
   ],
   "source": [
    "### Run the predictions here and use the model to output the prediction for each image.\n",
    "### Make sure to pre-process the images with the same pre-processing pipeline used earlier.\n",
    "### Feel free to use as many code cells as needed.\n",
    "#X_test_ = process_images(imArray)\n",
    "X_test_new = normalize_grayscale(imArray)\n",
    "with tf.Session() as sess:\n",
    "    # Load the weights and bias\n",
    "    saver.restore(sess, './lenet')\n",
    "    predicted = sess.run(tf.argmax(logits, 1),feed_dict={x: X_test_new, y: test_labels,keep_prob:1.0,training_mode:False})\n",
    "    print(predicted)"
   ]
  },
  {
   "cell_type": "markdown",
   "metadata": {
    "deletable": true,
    "editable": true
   },
   "source": [
    "### Analyze Performance"
   ]
  },
  {
   "cell_type": "code",
   "execution_count": 33,
   "metadata": {
    "collapsed": false,
    "deletable": true,
    "editable": true
   },
   "outputs": [
    {
     "name": "stdout",
     "output_type": "stream",
     "text": [
      "0.600000023842\n"
     ]
    }
   ],
   "source": [
    "### Calculate the accuracy for these 5 new images. \n",
    "### For example, if the model predicted 1 out of 5 signs correctly, it's 20% accurate on these new images.\n",
    "with tf.Session() as sess:\n",
    "    saver.restore(sess, './lenet')\n",
    "    acc = evaluate(X_test_new, test_labels)\n",
    "    print(acc)"
   ]
  },
  {
   "cell_type": "markdown",
   "metadata": {
    "deletable": true,
    "editable": true
   },
   "source": [
    "### Output Top 5 Softmax Probabilities For Each Image Found on the Web"
   ]
  },
  {
   "cell_type": "markdown",
   "metadata": {
    "deletable": true,
    "editable": true
   },
   "source": [
    "For each of the new images, print out the model's softmax probabilities to show the **certainty** of the model's predictions (limit the output to the top 5 probabilities for each image). [`tf.nn.top_k`](https://www.tensorflow.org/versions/r0.12/api_docs/python/nn.html#top_k) could prove helpful here. \n",
    "\n",
    "The example below demonstrates how tf.nn.top_k can be used to find the top k predictions for each image.\n",
    "\n",
    "`tf.nn.top_k` will return the values and indices (class ids) of the top k predictions. So if k=3, for each sign, it'll return the 3 largest probabilities (out of a possible 43) and the correspoding class ids.\n",
    "\n",
    "Take this numpy array as an example. The values in the array represent predictions. The array contains softmax probabilities for five candidate images with six possible classes. `tk.nn.top_k` is used to choose the three classes with the highest probability:\n",
    "\n",
    "```\n",
    "# (5, 6) array\n",
    "a = np.array([[ 0.24879643,  0.07032244,  0.12641572,  0.34763842,  0.07893497,\n",
    "         0.12789202],\n",
    "       [ 0.28086119,  0.27569815,  0.08594638,  0.0178669 ,  0.18063401,\n",
    "         0.15899337],\n",
    "       [ 0.26076848,  0.23664738,  0.08020603,  0.07001922,  0.1134371 ,\n",
    "         0.23892179],\n",
    "       [ 0.11943333,  0.29198961,  0.02605103,  0.26234032,  0.1351348 ,\n",
    "         0.16505091],\n",
    "       [ 0.09561176,  0.34396535,  0.0643941 ,  0.16240774,  0.24206137,\n",
    "         0.09155967]])\n",
    "```\n",
    "\n",
    "Running it through `sess.run(tf.nn.top_k(tf.constant(a), k=3))` produces:\n",
    "\n",
    "```\n",
    "TopKV2(values=array([[ 0.34763842,  0.24879643,  0.12789202],\n",
    "       [ 0.28086119,  0.27569815,  0.18063401],\n",
    "       [ 0.26076848,  0.23892179,  0.23664738],\n",
    "       [ 0.29198961,  0.26234032,  0.16505091],\n",
    "       [ 0.34396535,  0.24206137,  0.16240774]]), indices=array([[3, 0, 5],\n",
    "       [0, 1, 4],\n",
    "       [0, 5, 1],\n",
    "       [1, 3, 5],\n",
    "       [1, 4, 3]], dtype=int32))\n",
    "```\n",
    "\n",
    "Looking just at the first row we get `[ 0.34763842,  0.24879643,  0.12789202]`, you can confirm these are the 3 largest probabilities in `a`. You'll also notice `[3, 0, 5]` are the corresponding indices."
   ]
  },
  {
   "cell_type": "code",
   "execution_count": 34,
   "metadata": {
    "collapsed": false,
    "deletable": true,
    "editable": true
   },
   "outputs": [
    {
     "name": "stdout",
     "output_type": "stream",
     "text": [
      "TopKV2(values=array([[  9.88080084e-01,   1.19199632e-02,   2.27400434e-12,\n",
      "          5.67046193e-13,   1.95181816e-13],\n",
      "       [  7.03742385e-01,   2.25893050e-01,   4.41342816e-02,\n",
      "          1.27313565e-02,   1.19310617e-02],\n",
      "       [  1.00000000e+00,   0.00000000e+00,   0.00000000e+00,\n",
      "          0.00000000e+00,   0.00000000e+00],\n",
      "       [  1.00000000e+00,   8.88279111e-16,   1.55509671e-19,\n",
      "          6.44613248e-21,   6.96293821e-22],\n",
      "       [  9.99996066e-01,   3.97419581e-06,   6.20847551e-09,\n",
      "          8.66660479e-15,   2.10582026e-15]], dtype=float32), indices=array([[ 1,  2,  5,  7,  3],\n",
      "       [14, 29, 13, 22, 25],\n",
      "       [13,  0,  1,  2,  3],\n",
      "       [18, 27,  1,  4,  0],\n",
      "       [25, 29, 22, 13, 31]], dtype=int32))\n"
     ]
    }
   ],
   "source": [
    "### Print out the top five softmax probabilities for the predictions on the German traffic sign images found on the web. \n",
    "### Feel free to use as many code cells as needed.\n",
    "with tf.Session() as sess:\n",
    "    saver.restore(sess, './lenet')\n",
    "    top_k = sess.run(tf.nn.top_k(tf.nn.softmax(logits), k=5),feed_dict={x: X_test_new, y: test_labels,keep_prob:1.0,training_mode:False})\n",
    "    print(top_k)"
   ]
  },
  {
   "cell_type": "markdown",
   "metadata": {
    "deletable": true,
    "editable": true
   },
   "source": [
    "---\n",
    "\n",
    "## Step 4: Visualize the Neural Network's State with Test Images\n",
    "\n",
    " This Section is not required to complete but acts as an additional excersise for understaning the output of a neural network's weights. While neural networks can be a great learning device they are often referred to as a black box. We can understand what the weights of a neural network look like better by plotting their feature maps. After successfully training your neural network you can see what it's feature maps look like by plotting the output of the network's weight layers in response to a test stimuli image. From these plotted feature maps, it's possible to see what characteristics of an image the network finds interesting. For a sign, maybe the inner network feature maps react with high activation to the sign's boundary outline or to the contrast in the sign's painted symbol.\n",
    "\n",
    " Provided for you below is the function code that allows you to get the visualization output of any tensorflow weight layer you want. The inputs to the function should be a stimuli image, one used during training or a new one you provided, and then the tensorflow variable name that represents the layer's state during the training process, for instance if you wanted to see what the [LeNet lab's](https://classroom.udacity.com/nanodegrees/nd013/parts/fbf77062-5703-404e-b60c-95b78b2f3f9e/modules/6df7ae49-c61c-4bb2-a23e-6527e69209ec/lessons/601ae704-1035-4287-8b11-e2c2716217ad/concepts/d4aca031-508f-4e0b-b493-e7b706120f81) feature maps looked like for it's second convolutional layer you could enter conv2 as the tf_activation variable.\n",
    "\n",
    "For an example of what feature map outputs look like, check out NVIDIA's results in their paper [End-to-End Deep Learning for Self-Driving Cars](https://devblogs.nvidia.com/parallelforall/deep-learning-self-driving-cars/) in the section Visualization of internal CNN State. NVIDIA was able to show that their network's inner weights had high activations to road boundary lines by comparing feature maps from an image with a clear path to one without. Try experimenting with a similar test to show that your trained network's weights are looking for interesting features, whether it's looking at differences in feature maps from images with or without a sign, or even what feature maps look like in a trained network vs a completely untrained one on the same sign image.\n",
    "\n",
    "<figure>\n",
    " <img src=\"visualize_cnn.png\" width=\"380\" alt=\"Combined Image\" />\n",
    " <figcaption>\n",
    " <p></p> \n",
    " <p style=\"text-align: center;\"> Your output should look something like this (above)</p> \n",
    " </figcaption>\n",
    "</figure>\n",
    " <p></p> \n"
   ]
  },
  {
   "cell_type": "code",
   "execution_count": null,
   "metadata": {
    "collapsed": true,
    "deletable": true,
    "editable": true
   },
   "outputs": [],
   "source": [
    "### Visualize your network's feature maps here.\n",
    "### Feel free to use as many code cells as needed.\n",
    "\n",
    "# image_input: the test image being fed into the network to produce the feature maps\n",
    "# tf_activation: should be a tf variable name used during your training procedure that represents the calculated state of a specific weight layer\n",
    "# activation_min/max: can be used to view the activation contrast in more detail, by default matplot sets min and max to the actual min and max values of the output\n",
    "# plt_num: used to plot out multiple different weight feature map sets on the same block, just extend the plt number for each new feature map entry\n",
    "\n",
    "def outputFeatureMap(image_input, tf_activation, activation_min=-1, activation_max=-1 ,plt_num=1):\n",
    "    # Here make sure to preprocess your image_input in a way your network expects\n",
    "    # with size, normalization, ect if needed\n",
    "    # image_input =\n",
    "    # Note: x should be the same name as your network's tensorflow data placeholder variable\n",
    "    # If you get an error tf_activation is not defined it maybe having trouble accessing the variable from inside a function\n",
    "    activation = tf_activation.eval(session=sess,feed_dict={x : image_input})\n",
    "    featuremaps = activation.shape[3]\n",
    "    plt.figure(plt_num, figsize=(15,15))\n",
    "    for featuremap in range(featuremaps):\n",
    "        plt.subplot(6,8, featuremap+1) # sets the number of feature maps to show on each row and column\n",
    "        plt.title('FeatureMap ' + str(featuremap)) # displays the feature map number\n",
    "        if activation_min != -1 & activation_max != -1:\n",
    "            plt.imshow(activation[0,:,:, featuremap], interpolation=\"nearest\", vmin =activation_min, vmax=activation_max, cmap=\"gray\")\n",
    "        elif activation_max != -1:\n",
    "            plt.imshow(activation[0,:,:, featuremap], interpolation=\"nearest\", vmax=activation_max, cmap=\"gray\")\n",
    "        elif activation_min !=-1:\n",
    "            plt.imshow(activation[0,:,:, featuremap], interpolation=\"nearest\", vmin=activation_min, cmap=\"gray\")\n",
    "        else:\n",
    "            plt.imshow(activation[0,:,:, featuremap], interpolation=\"nearest\", cmap=\"gray\")"
   ]
  },
  {
   "cell_type": "code",
   "execution_count": null,
   "metadata": {
    "collapsed": true
   },
   "outputs": [],
   "source": [
    "with tf.Session() as sess:\n",
    "    saver.restore(sess, './lenet')\n",
    "    outputFeatureMap(X_test_new[1:2,:,:,:], conv1,plt_num=1)\n",
    "    #outputFeatureMap(X_train[0:1,:,:,:], conv1,plt_num=1)"
   ]
  },
  {
   "cell_type": "markdown",
   "metadata": {
    "deletable": true,
    "editable": true
   },
   "source": [
    "### Question 9\n",
    "\n",
    "Discuss how you used the visual output of your trained network's feature maps to show that it had learned to look for interesting characteristics in traffic sign images\n"
   ]
  },
  {
   "cell_type": "markdown",
   "metadata": {
    "deletable": true,
    "editable": true
   },
   "source": [
    "**Answer:**"
   ]
  },
  {
   "cell_type": "markdown",
   "metadata": {
    "deletable": true,
    "editable": true
   },
   "source": [
    "> **Note**: Once you have completed all of the code implementations and successfully answered each question above, you may finalize your work by exporting the iPython Notebook as an HTML document. You can do this by using the menu above and navigating to  \\n\",\n",
    "    \"**File -> Download as -> HTML (.html)**. Include the finished document along with this notebook as your submission."
   ]
  },
  {
   "cell_type": "markdown",
   "metadata": {
    "deletable": true,
    "editable": true
   },
   "source": [
    "### Project Writeup\n",
    "\n",
    "Once you have completed the code implementation, document your results in a project writeup using this [template](https://github.com/udacity/CarND-Traffic-Sign-Classifier-Project/blob/master/writeup_template.md) as a guide. The writeup can be in a markdown or pdf file. "
   ]
  }
 ],
 "metadata": {
  "anaconda-cloud": {},
  "kernelspec": {
   "display_name": "Python 3",
   "language": "python",
   "name": "python3"
  },
  "language_info": {
   "codemirror_mode": {
    "name": "ipython",
    "version": 3
   },
   "file_extension": ".py",
   "mimetype": "text/x-python",
   "name": "python",
   "nbconvert_exporter": "python",
   "pygments_lexer": "ipython3",
   "version": "3.5.2"
  },
  "widgets": {
   "state": {},
   "version": "1.1.2"
  }
 },
 "nbformat": 4,
 "nbformat_minor": 1
}
